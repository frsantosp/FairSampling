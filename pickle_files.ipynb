{
 "cells": [
  {
   "cell_type": "code",
   "execution_count": 10,
   "metadata": {
    "collapsed": true
   },
   "outputs": [],
   "source": [
    "    #if load_edges:\n",
    "    #        self.__edges = pd.read_csv(self.args.path + 'relations.csv')[['src', 'dst']]\n",
    "\n",
    "    #    else:\n",
    "    #        if self.args.undirected ==1:\n",
    "    #            self.__cent = pd.read_csv(self.args.path + 'node_centralities.csv', index_col=0)\n",
    "    #        self.__users = pd.read_csv(self.args.path + 'usersdata.csv' ).set_index('user_id')"
   ]
  },
  {
   "cell_type": "code",
   "execution_count": 17,
   "outputs": [],
   "source": [
    "import pandas as pd\n",
    "\n",
    "path= 'Credit/'#+\"relations.pkl\"\n",
    "edges = pd.read_csv(path + 'relations.csv')[['src', 'dst']]\n",
    "cent = pd.read_csv(path + 'node_centralities.csv', index_col=0)\n",
    "users = pd.read_csv(path + 'usersdata.csv' ).set_index('user_id')\n",
    "edges.to_pickle(path+\"relations.pkl\")\n",
    "cent.to_pickle(path+\"node_centralities.pkl\")\n",
    "users.to_pickle(path+\"usersdata.pkl\")"
   ],
   "metadata": {
    "collapsed": false,
    "pycharm": {
     "name": "#%%\n"
    }
   }
  },
  {
   "cell_type": "code",
   "execution_count": 13,
   "outputs": [],
   "source": [
    "edges = pd.read_pickle(path+\"relations.pkl\")"
   ],
   "metadata": {
    "collapsed": false,
    "pycharm": {
     "name": "#%%\n"
    }
   }
  }
 ],
 "metadata": {
  "kernelspec": {
   "display_name": "Python 3",
   "language": "python",
   "name": "python3"
  },
  "language_info": {
   "codemirror_mode": {
    "name": "ipython",
    "version": 2
   },
   "file_extension": ".py",
   "mimetype": "text/x-python",
   "name": "python",
   "nbconvert_exporter": "python",
   "pygments_lexer": "ipython2",
   "version": "2.7.6"
  }
 },
 "nbformat": 4,
 "nbformat_minor": 0
}